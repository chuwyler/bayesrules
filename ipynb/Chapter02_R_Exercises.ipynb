{
 "cells": [
  {
   "cell_type": "markdown",
   "metadata": {},
   "source": [
    "# Chapter 2 - R Exercises"
   ]
  },
  {
   "cell_type": "code",
   "execution_count": 1,
   "metadata": {},
   "outputs": [
    {
     "name": "stderr",
     "output_type": "stream",
     "text": [
      "── \u001b[1mAttaching core tidyverse packages\u001b[22m ──────────────────────── tidyverse 2.0.0 ──\n",
      "\u001b[32m✔\u001b[39m \u001b[34mdplyr    \u001b[39m 1.1.2     \u001b[32m✔\u001b[39m \u001b[34mreadr    \u001b[39m 2.1.4\n",
      "\u001b[32m✔\u001b[39m \u001b[34mforcats  \u001b[39m 1.0.0     \u001b[32m✔\u001b[39m \u001b[34mstringr  \u001b[39m 1.5.0\n",
      "\u001b[32m✔\u001b[39m \u001b[34mggplot2  \u001b[39m 3.4.2     \u001b[32m✔\u001b[39m \u001b[34mtibble   \u001b[39m 3.2.1\n",
      "\u001b[32m✔\u001b[39m \u001b[34mlubridate\u001b[39m 1.9.2     \u001b[32m✔\u001b[39m \u001b[34mtidyr    \u001b[39m 1.3.0\n",
      "\u001b[32m✔\u001b[39m \u001b[34mpurrr    \u001b[39m 1.0.1     \n",
      "── \u001b[1mConflicts\u001b[22m ────────────────────────────────────────── tidyverse_conflicts() ──\n",
      "\u001b[31m✖\u001b[39m \u001b[34mdplyr\u001b[39m::\u001b[32mfilter()\u001b[39m masks \u001b[34mstats\u001b[39m::filter()\n",
      "\u001b[31m✖\u001b[39m \u001b[34mdplyr\u001b[39m::\u001b[32mlag()\u001b[39m    masks \u001b[34mstats\u001b[39m::lag()\n",
      "\u001b[36mℹ\u001b[39m Use the conflicted package (\u001b[3m\u001b[34m<http://conflicted.r-lib.org/>\u001b[39m\u001b[23m) to force all conflicts to become errors\n"
     ]
    }
   ],
   "source": [
    "library(tidyverse)"
   ]
  },
  {
   "cell_type": "markdown",
   "metadata": {},
   "source": [
    "## Exercise 2.17"
   ]
  },
  {
   "cell_type": "markdown",
   "metadata": {},
   "source": [
    "Create data frame with trees (18% infected):"
   ]
  },
  {
   "cell_type": "code",
   "execution_count": 2,
   "metadata": {},
   "outputs": [
    {
     "name": "stderr",
     "output_type": "stream",
     "text": [
      "Warning message:\n",
      "“\u001b[1m\u001b[22m`rbernoulli()` was deprecated in purrr 1.0.0.”\n"
     ]
    },
    {
     "data": {
      "text/plain": [
       "trees\n",
       "FALSE  TRUE \n",
       " 8210  1790 "
      ]
     },
     "metadata": {},
     "output_type": "display_data"
    }
   ],
   "source": [
    "trees <- data.frame( infected=rbernoulli(10000, p=0.18) )\n",
    "table( trees )"
   ]
  },
  {
   "cell_type": "markdown",
   "metadata": {},
   "source": [
    "Add infection rate:"
   ]
  },
  {
   "cell_type": "code",
   "execution_count": 3,
   "metadata": {},
   "outputs": [
    {
     "data": {
      "text/html": [
       "<table class=\"dataframe\">\n",
       "<caption>A data.frame: 6 × 2</caption>\n",
       "<thead>\n",
       "\t<tr><th></th><th scope=col>infected</th><th scope=col>maple_rate</th></tr>\n",
       "\t<tr><th></th><th scope=col>&lt;lgl&gt;</th><th scope=col>&lt;dbl&gt;</th></tr>\n",
       "</thead>\n",
       "<tbody>\n",
       "\t<tr><th scope=row>1</th><td>FALSE</td><td>0.1</td></tr>\n",
       "\t<tr><th scope=row>2</th><td>FALSE</td><td>0.1</td></tr>\n",
       "\t<tr><th scope=row>3</th><td>FALSE</td><td>0.1</td></tr>\n",
       "\t<tr><th scope=row>4</th><td>FALSE</td><td>0.1</td></tr>\n",
       "\t<tr><th scope=row>5</th><td>FALSE</td><td>0.1</td></tr>\n",
       "\t<tr><th scope=row>6</th><td> TRUE</td><td>0.8</td></tr>\n",
       "</tbody>\n",
       "</table>\n"
      ],
      "text/latex": [
       "A data.frame: 6 × 2\n",
       "\\begin{tabular}{r|ll}\n",
       "  & infected & maple\\_rate\\\\\n",
       "  & <lgl> & <dbl>\\\\\n",
       "\\hline\n",
       "\t1 & FALSE & 0.1\\\\\n",
       "\t2 & FALSE & 0.1\\\\\n",
       "\t3 & FALSE & 0.1\\\\\n",
       "\t4 & FALSE & 0.1\\\\\n",
       "\t5 & FALSE & 0.1\\\\\n",
       "\t6 &  TRUE & 0.8\\\\\n",
       "\\end{tabular}\n"
      ],
      "text/markdown": [
       "\n",
       "A data.frame: 6 × 2\n",
       "\n",
       "| <!--/--> | infected &lt;lgl&gt; | maple_rate &lt;dbl&gt; |\n",
       "|---|---|---|\n",
       "| 1 | FALSE | 0.1 |\n",
       "| 2 | FALSE | 0.1 |\n",
       "| 3 | FALSE | 0.1 |\n",
       "| 4 | FALSE | 0.1 |\n",
       "| 5 | FALSE | 0.1 |\n",
       "| 6 |  TRUE | 0.8 |\n",
       "\n"
      ],
      "text/plain": [
       "  infected maple_rate\n",
       "1 FALSE    0.1       \n",
       "2 FALSE    0.1       \n",
       "3 FALSE    0.1       \n",
       "4 FALSE    0.1       \n",
       "5 FALSE    0.1       \n",
       "6  TRUE    0.8       "
      ]
     },
     "metadata": {},
     "output_type": "display_data"
    }
   ],
   "source": [
    "trees <- trees %>% mutate( maple_rate=ifelse(infected, 0.8, 0.1))\n",
    "head( trees )"
   ]
  },
  {
   "cell_type": "code",
   "execution_count": 4,
   "metadata": {},
   "outputs": [
    {
     "data": {
      "text/html": [
       "<table class=\"dataframe\">\n",
       "<caption>A data.frame: 6 × 3</caption>\n",
       "<thead>\n",
       "\t<tr><th></th><th scope=col>infected</th><th scope=col>maple_rate</th><th scope=col>is_maple</th></tr>\n",
       "\t<tr><th></th><th scope=col>&lt;lgl&gt;</th><th scope=col>&lt;dbl&gt;</th><th scope=col>&lt;int&gt;</th></tr>\n",
       "</thead>\n",
       "<tbody>\n",
       "\t<tr><th scope=row>1</th><td>FALSE</td><td>0.1</td><td>0</td></tr>\n",
       "\t<tr><th scope=row>2</th><td>FALSE</td><td>0.1</td><td>0</td></tr>\n",
       "\t<tr><th scope=row>3</th><td>FALSE</td><td>0.1</td><td>1</td></tr>\n",
       "\t<tr><th scope=row>4</th><td>FALSE</td><td>0.1</td><td>0</td></tr>\n",
       "\t<tr><th scope=row>5</th><td>FALSE</td><td>0.1</td><td>0</td></tr>\n",
       "\t<tr><th scope=row>6</th><td> TRUE</td><td>0.8</td><td>1</td></tr>\n",
       "</tbody>\n",
       "</table>\n"
      ],
      "text/latex": [
       "A data.frame: 6 × 3\n",
       "\\begin{tabular}{r|lll}\n",
       "  & infected & maple\\_rate & is\\_maple\\\\\n",
       "  & <lgl> & <dbl> & <int>\\\\\n",
       "\\hline\n",
       "\t1 & FALSE & 0.1 & 0\\\\\n",
       "\t2 & FALSE & 0.1 & 0\\\\\n",
       "\t3 & FALSE & 0.1 & 1\\\\\n",
       "\t4 & FALSE & 0.1 & 0\\\\\n",
       "\t5 & FALSE & 0.1 & 0\\\\\n",
       "\t6 &  TRUE & 0.8 & 1\\\\\n",
       "\\end{tabular}\n"
      ],
      "text/markdown": [
       "\n",
       "A data.frame: 6 × 3\n",
       "\n",
       "| <!--/--> | infected &lt;lgl&gt; | maple_rate &lt;dbl&gt; | is_maple &lt;int&gt; |\n",
       "|---|---|---|---|\n",
       "| 1 | FALSE | 0.1 | 0 |\n",
       "| 2 | FALSE | 0.1 | 0 |\n",
       "| 3 | FALSE | 0.1 | 1 |\n",
       "| 4 | FALSE | 0.1 | 0 |\n",
       "| 5 | FALSE | 0.1 | 0 |\n",
       "| 6 |  TRUE | 0.8 | 1 |\n",
       "\n"
      ],
      "text/plain": [
       "  infected maple_rate is_maple\n",
       "1 FALSE    0.1        0       \n",
       "2 FALSE    0.1        0       \n",
       "3 FALSE    0.1        1       \n",
       "4 FALSE    0.1        0       \n",
       "5 FALSE    0.1        0       \n",
       "6  TRUE    0.8        1       "
      ]
     },
     "metadata": {},
     "output_type": "display_data"
    }
   ],
   "source": [
    "trees <- trees  %>% mutate( is_maple=rbinom(nrow(trees), size=1, prob=maple_rate) )\n",
    "head( trees )"
   ]
  },
  {
   "cell_type": "markdown",
   "metadata": {},
   "source": [
    "Conditional probability P(infected|tree is maple):"
   ]
  },
  {
   "cell_type": "code",
   "execution_count": 5,
   "metadata": {},
   "outputs": [
    {
     "data": {
      "text/html": [
       "<table class=\"dataframe\">\n",
       "<caption>A data.frame: 1 × 1</caption>\n",
       "<thead>\n",
       "\t<tr><th scope=col>prob</th></tr>\n",
       "\t<tr><th scope=col>&lt;dbl&gt;</th></tr>\n",
       "</thead>\n",
       "<tbody>\n",
       "\t<tr><td>0.6407374</td></tr>\n",
       "</tbody>\n",
       "</table>\n"
      ],
      "text/latex": [
       "A data.frame: 1 × 1\n",
       "\\begin{tabular}{l}\n",
       " prob\\\\\n",
       " <dbl>\\\\\n",
       "\\hline\n",
       "\t 0.6407374\\\\\n",
       "\\end{tabular}\n"
      ],
      "text/markdown": [
       "\n",
       "A data.frame: 1 × 1\n",
       "\n",
       "| prob &lt;dbl&gt; |\n",
       "|---|\n",
       "| 0.6407374 |\n",
       "\n"
      ],
      "text/plain": [
       "  prob     \n",
       "1 0.6407374"
      ]
     },
     "metadata": {},
     "output_type": "display_data"
    }
   ],
   "source": [
    "trees %>% filter( is_maple==1 ) %>% summarise( prob=mean(infected) )"
   ]
  },
  {
   "cell_type": "markdown",
   "metadata": {},
   "source": [
    "More or less close to theoretical result!"
   ]
  },
  {
   "cell_type": "markdown",
   "metadata": {},
   "source": [
    "## Exercise 2.18"
   ]
  },
  {
   "cell_type": "markdown",
   "metadata": {},
   "source": [
    "Simulate number of lactose intolerant people with the given proportion 10'000 times:"
   ]
  },
  {
   "cell_type": "code",
   "execution_count": 6,
   "metadata": {},
   "outputs": [
    {
     "data": {
      "text/html": [
       "<table class=\"dataframe\">\n",
       "<caption>A data.frame: 6 × 2</caption>\n",
       "<thead>\n",
       "\t<tr><th></th><th scope=col>pi</th><th scope=col>intol</th></tr>\n",
       "\t<tr><th></th><th scope=col>&lt;dbl&gt;</th><th scope=col>&lt;int&gt;</th></tr>\n",
       "</thead>\n",
       "<tbody>\n",
       "\t<tr><th scope=row>1</th><td>0.5</td><td>46</td></tr>\n",
       "\t<tr><th scope=row>2</th><td>0.6</td><td>45</td></tr>\n",
       "\t<tr><th scope=row>3</th><td>0.5</td><td>31</td></tr>\n",
       "\t<tr><th scope=row>4</th><td>0.6</td><td>52</td></tr>\n",
       "\t<tr><th scope=row>5</th><td>0.7</td><td>55</td></tr>\n",
       "\t<tr><th scope=row>6</th><td>0.6</td><td>48</td></tr>\n",
       "</tbody>\n",
       "</table>\n"
      ],
      "text/latex": [
       "A data.frame: 6 × 2\n",
       "\\begin{tabular}{r|ll}\n",
       "  & pi & intol\\\\\n",
       "  & <dbl> & <int>\\\\\n",
       "\\hline\n",
       "\t1 & 0.5 & 46\\\\\n",
       "\t2 & 0.6 & 45\\\\\n",
       "\t3 & 0.5 & 31\\\\\n",
       "\t4 & 0.6 & 52\\\\\n",
       "\t5 & 0.7 & 55\\\\\n",
       "\t6 & 0.6 & 48\\\\\n",
       "\\end{tabular}\n"
      ],
      "text/markdown": [
       "\n",
       "A data.frame: 6 × 2\n",
       "\n",
       "| <!--/--> | pi &lt;dbl&gt; | intol &lt;int&gt; |\n",
       "|---|---|---|\n",
       "| 1 | 0.5 | 46 |\n",
       "| 2 | 0.6 | 45 |\n",
       "| 3 | 0.5 | 31 |\n",
       "| 4 | 0.6 | 52 |\n",
       "| 5 | 0.7 | 55 |\n",
       "| 6 | 0.6 | 48 |\n",
       "\n"
      ],
      "text/plain": [
       "  pi  intol\n",
       "1 0.5 46   \n",
       "2 0.6 45   \n",
       "3 0.5 31   \n",
       "4 0.6 52   \n",
       "5 0.7 55   \n",
       "6 0.6 48   "
      ]
     },
     "metadata": {},
     "output_type": "display_data"
    }
   ],
   "source": [
    "people <- data.frame(\n",
    "    pi=sample( c(0.4, 0.5, 0.6, 0.7), size=10000, replace=TRUE, prob=c(0.1,0.2,0.44,0.26)  )\n",
    ")\n",
    "people <- people %>% mutate(intol = rbinom(nrow(people), size=80, prob=pi))\n",
    "head( people )"
   ]
  },
  {
   "cell_type": "markdown",
   "metadata": {},
   "source": [
    "Conditional probability P( pi | y=47 ):"
   ]
  },
  {
   "cell_type": "code",
   "execution_count": 7,
   "metadata": {},
   "outputs": [
    {
     "data": {
      "text/html": [
       "<table class=\"dataframe\">\n",
       "<caption>A tibble: 3 × 3</caption>\n",
       "<thead>\n",
       "\t<tr><th scope=col>pi</th><th scope=col>n</th><th scope=col>prop</th></tr>\n",
       "\t<tr><th scope=col>&lt;dbl&gt;</th><th scope=col>&lt;int&gt;</th><th scope=col>&lt;dbl&gt;</th></tr>\n",
       "</thead>\n",
       "<tbody>\n",
       "\t<tr><td>0.5</td><td> 51</td><td>0.11538462</td></tr>\n",
       "\t<tr><td>0.6</td><td>369</td><td>0.83484163</td></tr>\n",
       "\t<tr><td>0.7</td><td> 22</td><td>0.04977376</td></tr>\n",
       "</tbody>\n",
       "</table>\n"
      ],
      "text/latex": [
       "A tibble: 3 × 3\n",
       "\\begin{tabular}{lll}\n",
       " pi & n & prop\\\\\n",
       " <dbl> & <int> & <dbl>\\\\\n",
       "\\hline\n",
       "\t 0.5 &  51 & 0.11538462\\\\\n",
       "\t 0.6 & 369 & 0.83484163\\\\\n",
       "\t 0.7 &  22 & 0.04977376\\\\\n",
       "\\end{tabular}\n"
      ],
      "text/markdown": [
       "\n",
       "A tibble: 3 × 3\n",
       "\n",
       "| pi &lt;dbl&gt; | n &lt;int&gt; | prop &lt;dbl&gt; |\n",
       "|---|---|---|\n",
       "| 0.5 |  51 | 0.11538462 |\n",
       "| 0.6 | 369 | 0.83484163 |\n",
       "| 0.7 |  22 | 0.04977376 |\n",
       "\n"
      ],
      "text/plain": [
       "  pi  n   prop      \n",
       "1 0.5  51 0.11538462\n",
       "2 0.6 369 0.83484163\n",
       "3 0.7  22 0.04977376"
      ]
     },
     "metadata": {},
     "output_type": "display_data"
    }
   ],
   "source": [
    "people %>% \n",
    "    filter( intol==47 ) %>% \n",
    "    group_by( pi ) %>% \n",
    "    summarise( n=n() ) %>% \n",
    "    mutate( prop=n/sum(n) )"
   ]
  },
  {
   "cell_type": "markdown",
   "metadata": {},
   "source": [
    "The achieved values more or less compare with the posterior from exercise 2.13 b). Often, no value is given for $\\pi=0.4$, since the prior probability is too low to reach a sufficient number of lactose intolerance people to enter the summary:"
   ]
  },
  {
   "cell_type": "code",
   "execution_count": 8,
   "metadata": {},
   "outputs": [
    {
     "data": {
      "image/png": "[encoded data removed]",
      "text/plain": [
       "Plot with title “Histogram of filter(people, pi == 0.4)$intol”"
      ]
     },
     "metadata": {
      "image/png": {
       "height": 420,
       "width": 420
      }
     },
     "output_type": "display_data"
    }
   ],
   "source": [
    "hist( filter(people, pi==0.4)$intol )"
   ]
  },
  {
   "cell_type": "markdown",
   "metadata": {},
   "source": [
    "Changing size to 100'000:"
   ]
  },
  {
   "cell_type": "code",
   "execution_count": 9,
   "metadata": {},
   "outputs": [
    {
     "data": {
      "text/html": [
       "<table class=\"dataframe\">\n",
       "<caption>A tibble: 4 × 3</caption>\n",
       "<thead>\n",
       "\t<tr><th scope=col>pi</th><th scope=col>n</th><th scope=col>prop</th></tr>\n",
       "\t<tr><th scope=col>&lt;dbl&gt;</th><th scope=col>&lt;int&gt;</th><th scope=col>&lt;dbl&gt;</th></tr>\n",
       "</thead>\n",
       "<tbody>\n",
       "\t<tr><td>0.4</td><td>   4</td><td>0.0008635579</td></tr>\n",
       "\t<tr><td>0.5</td><td> 529</td><td>0.1142055268</td></tr>\n",
       "\t<tr><td>0.6</td><td>3827</td><td>0.8262089810</td></tr>\n",
       "\t<tr><td>0.7</td><td> 272</td><td>0.0587219344</td></tr>\n",
       "</tbody>\n",
       "</table>\n"
      ],
      "text/latex": [
       "A tibble: 4 × 3\n",
       "\\begin{tabular}{lll}\n",
       " pi & n & prop\\\\\n",
       " <dbl> & <int> & <dbl>\\\\\n",
       "\\hline\n",
       "\t 0.4 &    4 & 0.0008635579\\\\\n",
       "\t 0.5 &  529 & 0.1142055268\\\\\n",
       "\t 0.6 & 3827 & 0.8262089810\\\\\n",
       "\t 0.7 &  272 & 0.0587219344\\\\\n",
       "\\end{tabular}\n"
      ],
      "text/markdown": [
       "\n",
       "A tibble: 4 × 3\n",
       "\n",
       "| pi &lt;dbl&gt; | n &lt;int&gt; | prop &lt;dbl&gt; |\n",
       "|---|---|---|\n",
       "| 0.4 |    4 | 0.0008635579 |\n",
       "| 0.5 |  529 | 0.1142055268 |\n",
       "| 0.6 | 3827 | 0.8262089810 |\n",
       "| 0.7 |  272 | 0.0587219344 |\n",
       "\n"
      ],
      "text/plain": [
       "  pi  n    prop        \n",
       "1 0.4    4 0.0008635579\n",
       "2 0.5  529 0.1142055268\n",
       "3 0.6 3827 0.8262089810\n",
       "4 0.7  272 0.0587219344"
      ]
     },
     "metadata": {},
     "output_type": "display_data"
    }
   ],
   "source": [
    "people <- data.frame(\n",
    "    pi=sample( c(0.4, 0.5, 0.6, 0.7), size=100000, replace=TRUE, prob=c(0.1,0.2,0.44,0.26)  )\n",
    ")\n",
    "people <- people %>% mutate(intol = rbinom(nrow(people), size=80, prob=pi))\n",
    "people %>% \n",
    "    filter( intol==47 ) %>% \n",
    "    group_by( pi ) %>% \n",
    "    summarise( n=n() ) %>% \n",
    "    mutate( prop=n/sum(n) )"
   ]
  },
  {
   "cell_type": "markdown",
   "metadata": {},
   "source": [
    "This is now closer."
   ]
  },
  {
   "cell_type": "markdown",
   "metadata": {},
   "source": [
    "## Exercise 2.19"
   ]
  },
  {
   "cell_type": "code",
   "execution_count": 10,
   "metadata": {},
   "outputs": [
    {
     "data": {
      "text/html": [
       "<table class=\"dataframe\">\n",
       "<caption>A tibble: 4 × 3</caption>\n",
       "<thead>\n",
       "\t<tr><th scope=col>pi</th><th scope=col>n</th><th scope=col>prop</th></tr>\n",
       "\t<tr><th scope=col>&lt;dbl&gt;</th><th scope=col>&lt;int&gt;</th><th scope=col>&lt;dbl&gt;</th></tr>\n",
       "</thead>\n",
       "<tbody>\n",
       "\t<tr><td>0.60</td><td>551</td><td>0.28285421</td></tr>\n",
       "\t<tr><td>0.65</td><td>848</td><td>0.43531828</td></tr>\n",
       "\t<tr><td>0.70</td><td>389</td><td>0.19969199</td></tr>\n",
       "\t<tr><td>0.75</td><td>160</td><td>0.08213552</td></tr>\n",
       "</tbody>\n",
       "</table>\n"
      ],
      "text/latex": [
       "A tibble: 4 × 3\n",
       "\\begin{tabular}{lll}\n",
       " pi & n & prop\\\\\n",
       " <dbl> & <int> & <dbl>\\\\\n",
       "\\hline\n",
       "\t 0.60 & 551 & 0.28285421\\\\\n",
       "\t 0.65 & 848 & 0.43531828\\\\\n",
       "\t 0.70 & 389 & 0.19969199\\\\\n",
       "\t 0.75 & 160 & 0.08213552\\\\\n",
       "\\end{tabular}\n"
      ],
      "text/markdown": [
       "\n",
       "A tibble: 4 × 3\n",
       "\n",
       "| pi &lt;dbl&gt; | n &lt;int&gt; | prop &lt;dbl&gt; |\n",
       "|---|---|---|\n",
       "| 0.60 | 551 | 0.28285421 |\n",
       "| 0.65 | 848 | 0.43531828 |\n",
       "| 0.70 | 389 | 0.19969199 |\n",
       "| 0.75 | 160 | 0.08213552 |\n",
       "\n"
      ],
      "text/plain": [
       "  pi   n   prop      \n",
       "1 0.60 551 0.28285421\n",
       "2 0.65 848 0.43531828\n",
       "3 0.70 389 0.19969199\n",
       "4 0.75 160 0.08213552"
      ]
     },
     "metadata": {},
     "output_type": "display_data"
    }
   ],
   "source": [
    "cuckoo <- data.frame(\n",
    "    pi=sample( c(0.6, 0.65, 0.7, 0.75), size=10000, replace=TRUE, prob=c(0.3,0.4,0.2,0.1)  )\n",
    ")\n",
    "cuckoo <- cuckoo %>% mutate( hatchlings=rbinom(nrow(cuckoo), size=15, prob=pi) )\n",
    "cuckoo %>% \n",
    "    filter( hatchlings==10 ) %>% \n",
    "    group_by( pi ) %>% \n",
    "    summarise( n=n() ) %>% \n",
    "    mutate( prop=n/sum(n) )"
   ]
  },
  {
   "cell_type": "markdown",
   "metadata": {},
   "source": [
    "More or less the same!"
   ]
  },
  {
   "cell_type": "markdown",
   "metadata": {},
   "source": [
    "## Exercise 2.20"
   ]
  },
  {
   "cell_type": "markdown",
   "metadata": {},
   "source": [
    "Given: $P(\\text{cat}) = 0.08$, $P(\\text{predicted cat} | \\text{cat}) = 0.8$, $P(\\text{predicted cat} | \\text{no cat}) = 0.5$\n",
    "\n",
    "Desired: $P(\\text{cat} | \\text{predicted cat})$"
   ]
  },
  {
   "cell_type": "markdown",
   "metadata": {},
   "source": [
    "### Analytic computation:"
   ]
  },
  {
   "cell_type": "markdown",
   "metadata": {},
   "source": [
    "$P(\\text{cat}|\\text{predicted cat}) = \\frac{P(\\text{predicted cat}|\\text{cat}) \\, P(\\text{cat})}{P(\\text{predicted cat})} = \\frac{P(\\text{predicted cat}|\\text{cat}) \\, P(\\text{cat})}{P(\\text{predicted cat}|\\text{cat}) \\, P(\\text{cat}) + P(\\text{predicted cat}|\\text{no cat}) \\, P(\\text{no cat})} = \\frac{0.8 \\cdot 0.08}{0.8 \\cdot 0.08 + 0.5 \\cdot 0.92}$"
   ]
  },
  {
   "cell_type": "code",
   "execution_count": 11,
   "metadata": {},
   "outputs": [
    {
     "data": {
      "text/html": [
       "0.122137404580153"
      ],
      "text/latex": [
       "0.122137404580153"
      ],
      "text/markdown": [
       "0.122137404580153"
      ],
      "text/plain": [
       "[1] 0.1221374"
      ]
     },
     "metadata": {},
     "output_type": "display_data"
    }
   ],
   "source": [
    "0.8*0.08 / (0.8*0.08 + 0.5*0.92)"
   ]
  },
  {
   "cell_type": "markdown",
   "metadata": {},
   "source": [
    "### Simulation:"
   ]
  },
  {
   "cell_type": "code",
   "execution_count": 12,
   "metadata": {},
   "outputs": [
    {
     "data": {
      "text/html": [
       "<table class=\"dataframe\">\n",
       "<caption>A tibble: 2 × 3</caption>\n",
       "<thead>\n",
       "\t<tr><th scope=col>is_cat</th><th scope=col>n</th><th scope=col>proportion</th></tr>\n",
       "\t<tr><th scope=col>&lt;lgl&gt;</th><th scope=col>&lt;int&gt;</th><th scope=col>&lt;dbl&gt;</th></tr>\n",
       "</thead>\n",
       "<tbody>\n",
       "\t<tr><td>FALSE</td><td>4441</td><td>0.8689102</td></tr>\n",
       "\t<tr><td> TRUE</td><td> 670</td><td>0.1310898</td></tr>\n",
       "</tbody>\n",
       "</table>\n"
      ],
      "text/latex": [
       "A tibble: 2 × 3\n",
       "\\begin{tabular}{lll}\n",
       " is\\_cat & n & proportion\\\\\n",
       " <lgl> & <int> & <dbl>\\\\\n",
       "\\hline\n",
       "\t FALSE & 4441 & 0.8689102\\\\\n",
       "\t  TRUE &  670 & 0.1310898\\\\\n",
       "\\end{tabular}\n"
      ],
      "text/markdown": [
       "\n",
       "A tibble: 2 × 3\n",
       "\n",
       "| is_cat &lt;lgl&gt; | n &lt;int&gt; | proportion &lt;dbl&gt; |\n",
       "|---|---|---|\n",
       "| FALSE | 4441 | 0.8689102 |\n",
       "|  TRUE |  670 | 0.1310898 |\n",
       "\n"
      ],
      "text/plain": [
       "  is_cat n    proportion\n",
       "1 FALSE  4441 0.8689102 \n",
       "2  TRUE   670 0.1310898 "
      ]
     },
     "metadata": {},
     "output_type": "display_data"
    }
   ],
   "source": [
    "images <- data.frame( is_cat=rbernoulli(10000, p=0.08) ) %>% \n",
    "    mutate( predicted_cat_prop=ifelse(is_cat, 0.8, 0.5)) %>% \n",
    "    mutate( predicted_cat=rbinom(10000, size=1, prob=predicted_cat_prop) ) %>% \n",
    "    filter( predicted_cat==1 ) %>% \n",
    "    group_by( is_cat ) %>% \n",
    "    summarise( n=n() ) %>% \n",
    "    mutate( proportion=n/sum(n) )\n",
    "head( images, 20 )"
   ]
  },
  {
   "cell_type": "markdown",
   "metadata": {},
   "source": [
    "Pretty close!"
   ]
  },
  {
   "cell_type": "markdown",
   "metadata": {},
   "source": [
    "## Exercise 2.21"
   ]
  },
  {
   "cell_type": "markdown",
   "metadata": {},
   "source": [
    "Exercise 2.21 (Medical tests) A medical test is designed to detect a disease that about 3% of the population has. For 93% of those who have the disease, the test yields a positive result. In addition, the test falsely yields a positive result for 7% of those without the disease. What is the probability that a person has the disease given that they have tested positive? Answer this question by simulating data for 10,000 people. "
   ]
  },
  {
   "cell_type": "markdown",
   "metadata": {},
   "source": [
    "$A$: 'person has disease', $B$: 'person is tested positive'\n",
    "\n",
    "Given: $P(A) = 0.03$, $P(\\neg A) = 0.97$, $P(B|A) = 0.93$, $P(B|\\neg A) = 0.07$\n",
    "\n",
    "Desired: $P(A|B)$"
   ]
  },
  {
   "cell_type": "markdown",
   "metadata": {},
   "source": [
    "### Analytic computation:"
   ]
  },
  {
   "cell_type": "markdown",
   "metadata": {},
   "source": [
    "$P(A|B) = \\frac{P(B|A) \\, P(A)}{P(B)} = \\frac{P(B|A) \\, P(A)}{P(B|A) \\, P(A) + P(B|\\neg A) \\, P(\\neg A)} = \\frac{0.93 \\cdot 0.03}{0.93 \\cdot 0.03 + 0.07 \\cdot 0.97}$"
   ]
  },
  {
   "cell_type": "code",
   "execution_count": 13,
   "metadata": {},
   "outputs": [
    {
     "data": {
      "text/html": [
       "0.291231732776618"
      ],
      "text/latex": [
       "0.291231732776618"
      ],
      "text/markdown": [
       "0.291231732776618"
      ],
      "text/plain": [
       "[1] 0.2912317"
      ]
     },
     "metadata": {},
     "output_type": "display_data"
    }
   ],
   "source": [
    "0.93 * 0.03 / (0.93 * 0.03 + 0.07 * 0.97)"
   ]
  },
  {
   "cell_type": "markdown",
   "metadata": {},
   "source": [
    "### Simulation:"
   ]
  },
  {
   "cell_type": "code",
   "execution_count": 14,
   "metadata": {},
   "outputs": [
    {
     "data": {
      "text/html": [
       "<table class=\"dataframe\">\n",
       "<caption>A tibble: 2 × 3</caption>\n",
       "<thead>\n",
       "\t<tr><th scope=col>has_disease</th><th scope=col>n</th><th scope=col>proportion</th></tr>\n",
       "\t<tr><th scope=col>&lt;lgl&gt;</th><th scope=col>&lt;int&gt;</th><th scope=col>&lt;dbl&gt;</th></tr>\n",
       "</thead>\n",
       "<tbody>\n",
       "\t<tr><td>FALSE</td><td>720</td><td>0.7114625</td></tr>\n",
       "\t<tr><td> TRUE</td><td>292</td><td>0.2885375</td></tr>\n",
       "</tbody>\n",
       "</table>\n"
      ],
      "text/latex": [
       "A tibble: 2 × 3\n",
       "\\begin{tabular}{lll}\n",
       " has\\_disease & n & proportion\\\\\n",
       " <lgl> & <int> & <dbl>\\\\\n",
       "\\hline\n",
       "\t FALSE & 720 & 0.7114625\\\\\n",
       "\t  TRUE & 292 & 0.2885375\\\\\n",
       "\\end{tabular}\n"
      ],
      "text/markdown": [
       "\n",
       "A tibble: 2 × 3\n",
       "\n",
       "| has_disease &lt;lgl&gt; | n &lt;int&gt; | proportion &lt;dbl&gt; |\n",
       "|---|---|---|\n",
       "| FALSE | 720 | 0.7114625 |\n",
       "|  TRUE | 292 | 0.2885375 |\n",
       "\n"
      ],
      "text/plain": [
       "  has_disease n   proportion\n",
       "1 FALSE       720 0.7114625 \n",
       "2  TRUE       292 0.2885375 "
      ]
     },
     "metadata": {},
     "output_type": "display_data"
    }
   ],
   "source": [
    "images <- data.frame( has_disease=rbernoulli(10000, p=0.03) ) %>% \n",
    "    mutate( positive_prop=ifelse(has_disease, 0.93, 0.07)) %>% \n",
    "    mutate( tested_positive=rbinom(10000, size=1, prob=positive_prop) ) %>% \n",
    "    filter( tested_positive==1 ) %>% \n",
    "    group_by( has_disease ) %>% \n",
    "    summarise( n=n() ) %>% \n",
    "    mutate( proportion=n/sum(n) )\n",
    "head( images, 20 )"
   ]
  }
 ],
 "metadata": {
  "kernelspec": {
   "display_name": "R",
   "language": "R",
   "name": "ir"
  },
  "language_info": {
   "codemirror_mode": "r",
   "file_extension": ".r",
   "mimetype": "text/x-r-source",
   "name": "R",
   "pygments_lexer": "r",
   "version": "4.1.2"
  }
 },
 "nbformat": 4,
 "nbformat_minor": 2
}
